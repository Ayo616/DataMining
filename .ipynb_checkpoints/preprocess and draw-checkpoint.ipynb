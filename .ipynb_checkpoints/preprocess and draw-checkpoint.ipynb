{
 "cells": [
  {
   "cell_type": "code",
   "execution_count": 1,
   "metadata": {
    "collapsed": true
   },
   "outputs": [],
   "source": [
    "import seaborn as sns\n",
    "import pandas as pd\n",
    "import numpy as np\n",
    "import matplotlib.pyplot as plt"
   ]
  },
  {
   "cell_type": "code",
   "execution_count": 2,
   "metadata": {
    "collapsed": true
   },
   "outputs": [],
   "source": [
    "% matplotlib inline"
   ]
  },
  {
   "cell_type": "code",
   "execution_count": 15,
   "metadata": {
    "scrolled": true
   },
   "outputs": [
    {
     "data": {
      "image/png": "[encoded data removed]",
      "text/plain": [
       "<matplotlib.figure.Figure at 0x1fbfd283240>"
      ]
     },
     "metadata": {},
     "output_type": "display_data"
    }
   ],
   "source": [
    "np.random.seed(0)\n",
    "sns.set()\n",
    "uniform_data = np.random.rand(5, 5)\n",
    "ax = sns.heatmap(uniform_data,annot=True,vmin=0, vmax=1)"
   ]
  },
  {
   "cell_type": "code",
   "execution_count": 3,
   "metadata": {},
   "outputs": [
    {
     "name": "stdout",
     "output_type": "stream",
     "text": [
      "   SepalLengthCm  SepalWidthCm  PetalLengthCm  PetalWidthCm  Species\n",
      "0            5.1           3.5            1.4           0.2        0\n",
      "1            4.9           3.0            1.4           0.2        0\n",
      "2            4.7           3.2            1.3           0.2        0\n",
      "3            4.6           3.1            1.5           0.2        0\n",
      "4            5.0           3.6            1.4           0.2        0\n"
     ]
    }
   ],
   "source": [
    "from sklearn import datasets\n",
    "import pandas as pd\n",
    "\n",
    "data = datasets.load_iris()\n",
    "train = data.data\n",
    "label = data.target\n",
    "#添加列名\n",
    "all = pd.DataFrame(train,columns=['SepalLengthCm','SepalWidthCm','PetalLengthCm','PetalWidthCm'])\n",
    "alllabel = pd.DataFrame(label,columns=['Species'])\n",
    "#依据行连接（axis=1代表为行，0为列连接，即上下连接）\n",
    "raw = pd.concat([all,alllabel],axis=1)\n",
    "print(raw.head())"
   ]
  },
  {
   "cell_type": "code",
   "execution_count": 6,
   "metadata": {},
   "outputs": [
    {
     "name": "stdout",
     "output_type": "stream",
     "text": [
      "   SepalLengthCm\n",
      "0            5.1\n",
      "1            4.9\n",
      "2            4.7\n",
      "3            4.6\n",
      "4            5.0\n"
     ]
    }
   ],
   "source": [
    "#选取某一列\n",
    "#[:]代表第几行，如[2:3]第二行到第三行\n",
    "#[2:3,['name']],代表选择的列名，如果选择多行列名，[2:2,['a','b']]\n",
    "select = raw.loc[:,['SepalLengthCm']]\n",
    "print(select.head())"
   ]
  },
  {
   "cell_type": "code",
   "execution_count": null,
   "metadata": {
    "collapsed": true
   },
   "outputs": [],
   "source": []
  }
 ],
 "metadata": {
  "kernelspec": {
   "display_name": "Python 3",
   "language": "python",
   "name": "python3"
  },
  "language_info": {
   "codemirror_mode": {
    "name": "ipython",
    "version": 3
   },
   "file_extension": ".py",
   "mimetype": "text/x-python",
   "name": "python",
   "nbconvert_exporter": "python",
   "pygments_lexer": "ipython3",
   "version": "3.6.3"
  }
 },
 "nbformat": 4,
 "nbformat_minor": 2
}
